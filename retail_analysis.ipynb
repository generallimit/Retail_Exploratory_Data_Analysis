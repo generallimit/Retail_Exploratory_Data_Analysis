{
 "cells": [
  {
   "cell_type": "markdown",
   "metadata": {},
   "source": [
    "# Retail Data Analysis with Python #"
   ]
  },
  {
   "cell_type": "markdown",
   "metadata": {},
   "source": [
    "## Task 1: Load the Data"
   ]
  },
  {
   "cell_type": "code",
   "execution_count": null,
   "metadata": {},
   "outputs": [],
   "source": [
    "!source .venv/bin/activate"
   ]
  },
  {
   "cell_type": "code",
   "execution_count": null,
   "metadata": {},
   "outputs": [],
   "source": [
    "import pandas as pd\n",
    "import numpy as np\n",
    "import seaborn as sns\n",
    "import matplotlib.pyplot as plt\n",
    "import glob \n",
    "import os\n",
    "from datetime import datetime"
   ]
  },
  {
   "cell_type": "code",
   "execution_count": null,
   "metadata": {},
   "outputs": [],
   "source": [
    "# %reload_ext jupyter_ai"
   ]
  },
  {
   "cell_type": "code",
   "execution_count": null,
   "metadata": {},
   "outputs": [],
   "source": [
    "# # NOTE: Replace 'PROVIDER_API_KEY' with the credential key's name,\n",
    "# # and enter the API key when prompted by using the code shown below.\n",
    "\n",
    "# import getpass\n",
    "\n",
    "# # Enter your key\n",
    "# token = getpass.getpass('Enter your PROVIDER API key: ')\n",
    "\n",
    "# # Set the environment variable without displaying the full key\n",
    "# os.environ['OPENAI_API_KEY'] = token"
   ]
  },
  {
   "cell_type": "code",
   "execution_count": null,
   "metadata": {},
   "outputs": [],
   "source": [
    "# pd.set_option('display.max_rows', None)\n",
    "# pd.set_option('display.max_columns', None)\n",
    "# pd.set_option('display.width', None)\n",
    "# pd.reset_option('^display.', silent=True)"
   ]
  },
  {
   "cell_type": "code",
   "execution_count": null,
   "metadata": {
    "scrolled": true
   },
   "outputs": [],
   "source": [
    "# df = pd.read_excel(\"Online Retail.xlsx\")\n",
    "filepath = './projects/sales/sales/'\n",
    "all_files = glob.glob(os.path.join(filepath, \"*.csv\"))\n",
    "\n",
    "df = pd.concat((pd.read_csv(f) for f in all_files), ignore_index=True)"
   ]
  },
  {
   "cell_type": "code",
   "execution_count": null,
   "metadata": {},
   "outputs": [],
   "source": [
    "df.head()"
   ]
  },
  {
   "cell_type": "code",
   "execution_count": null,
   "metadata": {},
   "outputs": [],
   "source": [
    "df.columns = df.columns.str.title()"
   ]
  },
  {
   "cell_type": "code",
   "execution_count": null,
   "metadata": {},
   "outputs": [],
   "source": [
    "df.columns = df.columns.str.replace(\" \", \"\", regex=True)"
   ]
  },
  {
   "cell_type": "code",
   "execution_count": null,
   "metadata": {},
   "outputs": [],
   "source": [
    "df = df.rename(columns={'ProductVariantSkuAtTimeOfSale':'SKU'})"
   ]
  },
  {
   "cell_type": "code",
   "execution_count": null,
   "metadata": {},
   "outputs": [],
   "source": [
    "df.columns"
   ]
  },
  {
   "cell_type": "raw",
   "metadata": {},
   "source": [
    " 0   InvoiceNo   --> OrderId non-null  object        \n",
    " 1   StockCode   --> ProductVariantSkuAtTimeOfSale non-null  object        \n",
    " 2   Description --> ProductTitle non-null  object        \n",
    " 3   Quantity    --> QuantityOrdered non-null  int64         \n",
    " 4   InvoiceDate --> Day non-null  datetime64[ns]\n",
    " 5   UnitPrice   --> CostOfGoodsSold non-null  float64       \n",
    " 6   CustomerID  --> CustomerId non-null  float64       \n",
    " 7   Country     --> BillingRegion non-null  object    "
   ]
  },
  {
   "cell_type": "code",
   "execution_count": null,
   "metadata": {},
   "outputs": [],
   "source": [
    "df['BillingRegion'] = np.where(\n",
    "    (df['BillingRegion'].isna()) & (df['SalesChannel'] == 'Point of Sale'),\n",
    "    'Colorado',\n",
    "    df['BillingRegion']\n",
    ")"
   ]
  },
  {
   "cell_type": "code",
   "execution_count": null,
   "metadata": {},
   "outputs": [],
   "source": [
    "# df1 = df.groupby('OrderId').agg({'NetSales': 'sum', 'ShippingCharges': 'sum'}).reset_index()"
   ]
  },
  {
   "cell_type": "code",
   "execution_count": null,
   "metadata": {
    "scrolled": true
   },
   "outputs": [],
   "source": [
    "# %%ai chatgpt \n",
    "# I need to join df and df1 on OrderId"
   ]
  },
  {
   "cell_type": "code",
   "execution_count": null,
   "metadata": {},
   "outputs": [],
   "source": [
    "# df_merge = df.merge(df1, on='OrderId', how='inner')"
   ]
  },
  {
   "cell_type": "code",
   "execution_count": null,
   "metadata": {},
   "outputs": [],
   "source": [
    "df.shape"
   ]
  },
  {
   "cell_type": "code",
   "execution_count": null,
   "metadata": {},
   "outputs": [],
   "source": [
    "df.info()"
   ]
  },
  {
   "cell_type": "code",
   "execution_count": null,
   "metadata": {
    "scrolled": true
   },
   "outputs": [],
   "source": [
    "# Find the rows where 'InvoiceNo' contains \"C\" in their values\n",
    "# df[df['InvoiceNo'].str.contains('C', na=False)]"
   ]
  },
  {
   "cell_type": "code",
   "execution_count": null,
   "metadata": {},
   "outputs": [],
   "source": [
    "print(\"Number of missing values per column:\")\n",
    "print(df.isnull().sum())\n",
    "\n",
    "print(\"---------------------------------------------------------------------------------------------\")\n",
    "\n",
    "print(\"Number of unique values per row:\")\n",
    "print(df.nunique())"
   ]
  },
  {
   "cell_type": "code",
   "execution_count": null,
   "metadata": {},
   "outputs": [],
   "source": [
    "# Replace null CustomerIDs with \"Unknown\"\n",
    "# df['CustomerId'].fillna(\"Unknown\", inplace=True)\n",
    "df.fillna({\"CustomerId\": \"Unknown\"}, inplace=True)\n",
    "# Filter rows with non-null 'Description'\n",
    "df = df[df['ProductTitle'].notna()]"
   ]
  },
  {
   "cell_type": "code",
   "execution_count": null,
   "metadata": {},
   "outputs": [],
   "source": [
    "columns_to_drop = [\"OrderId\", \"SKU\"]\n",
    "df.drop(columns=columns_to_drop, inplace=True)"
   ]
  },
  {
   "cell_type": "code",
   "execution_count": null,
   "metadata": {},
   "outputs": [],
   "source": [
    "df.head(10)"
   ]
  },
  {
   "cell_type": "code",
   "execution_count": null,
   "metadata": {},
   "outputs": [],
   "source": [
    "df = df.drop_duplicates()\n",
    "df.info()"
   ]
  },
  {
   "cell_type": "code",
   "execution_count": null,
   "metadata": {},
   "outputs": [],
   "source": [
    "# Calculate the gross amount for each transaction (Quantity * UnitPrice)\n",
    "df = df.assign(Gross=df['QuantityOrdered'] * df['CostOfGoodsSold'])\n",
    "df"
   ]
  },
  {
   "cell_type": "code",
   "execution_count": null,
   "metadata": {},
   "outputs": [],
   "source": [
    "df.describe()"
   ]
  },
  {
   "cell_type": "code",
   "execution_count": null,
   "metadata": {},
   "outputs": [],
   "source": [
    "# Calculate measures of central tendency\n",
    "median = df.median(numeric_only=True)\n",
    "median"
   ]
  },
  {
   "cell_type": "code",
   "execution_count": null,
   "metadata": {},
   "outputs": [],
   "source": [
    "df['Day'] = df['Day'].apply(lambda x: datetime.strptime(x, '%Y-%m-%d'))"
   ]
  },
  {
   "cell_type": "code",
   "execution_count": null,
   "metadata": {},
   "outputs": [],
   "source": [
    "# Create a new column 'MonthYear' with the month and year only for Data Visualization\n",
    "df['MonthYear'] = df['Day'].dt.to_period('M').copy()\n",
    "\n",
    "# Print the DataFrame with the 'MonthYear' column\n",
    "df"
   ]
  },
  {
   "cell_type": "code",
   "execution_count": null,
   "metadata": {},
   "outputs": [],
   "source": [
    "import matplotlib.pyplot as plt\n",
    "import numpy as np\n",
    "\n",
    "# Group the data by 'MonthYear' and calculate the gross purchase for each month\n",
    "monthly_data = df.groupby('MonthYear')['Gross'].sum().reset_index()\n",
    "\n",
    "# Convert the 'MonthYear' column to string format\n",
    "monthly_data['MonthYear'] = monthly_data['MonthYear'].astype(str)\n",
    "\n",
    "# Set the figure size using subplots\n",
    "fig, ax = plt.subplots(figsize=(10, 5))\n",
    "\n",
    "# Automatic formatting to the x-axis labels when dealing with dates\n",
    "fig.autofmt_xdate()\n",
    "\n",
    "# Create a colorful plot with markers and lines\n",
    "plt.plot(monthly_data['MonthYear'], monthly_data['Gross'], marker='o', linestyle='-', color='dodgerblue', label='Gross')\n",
    "\n",
    "# Customize the plot\n",
    "plt.title('Gross by Month', fontsize=16)\n",
    "plt.xlabel('MonthYear', fontsize=12)\n",
    "plt.ylabel('Gross', fontsize=12)\n",
    "plt.xticks(rotation=45, fontsize=10)\n",
    "plt.yticks(fontsize=10)\n",
    "plt.grid(True, linestyle='--', alpha=0.7)\n",
    "plt.legend(loc='upper right', fontsize=12)\n",
    "\n",
    "# Add a background color to the plot\n",
    "ax.set_facecolor('lightgray')\n",
    "\n",
    "# Add more colors and styles if needed\n",
    "# Example: ax.spines['top'].set_color('none')\n",
    "\n",
    "plt.show()  # Show the colorful plot"
   ]
  },
  {
   "cell_type": "code",
   "execution_count": null,
   "metadata": {
    "scrolled": true
   },
   "outputs": [],
   "source": []
  },
  {
   "cell_type": "code",
   "execution_count": null,
   "metadata": {},
   "outputs": [],
   "source": [
    "# Create a copy of the 'Month' column\n",
    "df['Month'] = df['Day'].dt.month.values\n",
    "\n",
    "# Create a copy of the 'DayOfWeek' column\n",
    "df['DayOfWeek'] = df['Day'].dt.day_name().values\n",
    "\n",
    "# Calculate gross sales for each month\n",
    "monthly_sales = df.groupby('Month')['Gross'].sum()\n",
    "\n",
    "# Calculate gross sales for each day of the week\n",
    "daily_sales = df.groupby('DayOfWeek')['Gross'].sum()\n",
    "\n",
    "# Identify the busiest month\n",
    "busiest_month = monthly_sales.idxmax()\n",
    "\n",
    "# Identify the busiest day of the week\n",
    "busiest_day = daily_sales.idxmax()\n",
    "\n",
    "# Print the results\n",
    "print(\"Busiest Month (in terms of sales):\", busiest_month)\n",
    "print(\"Busiest Day of the Week (in terms of sales):\", busiest_day)"
   ]
  },
  {
   "cell_type": "code",
   "execution_count": null,
   "metadata": {},
   "outputs": [],
   "source": [
    "import matplotlib.pyplot as plt\n",
    "\n",
    "# Create a figure and set its size\n",
    "plt.figure(figsize=(10, 6))\n",
    "\n",
    "# Define the colors for the bars\n",
    "colors = ['royalblue', 'forestgreen', 'dodgerblue', 'mediumseagreen', 'lightcoral', 'lightseagreen', 'orange']\n",
    "\n",
    "# Create a bar plot\n",
    "plt.bar(daily_sales.index, daily_sales.values, color=colors)\n",
    "\n",
    "# Set labels and title\n",
    "plt.xlabel('Day of the Week', fontsize=12)\n",
    "plt.ylabel('Gross Amount', fontsize=12)\n",
    "plt.title('Sales Trend by Day of the Week', fontsize=16)\n",
    "\n",
    "# Set custom x-axis labels\n",
    "days_of_week = ['Monday', 'Tuesday', 'Wednesday', 'Thursday', 'Friday', 'Saturday', 'Sunday']\n",
    "plt.xticks(range(len(days_of_week)), days_of_week, rotation=45, fontsize=10)\n",
    "\n",
    "# Add gridlines\n",
    "plt.grid(axis='y', linestyle='--', alpha=0.7)\n",
    "\n",
    "# Show the plot\n",
    "plt.show()"
   ]
  },
  {
   "cell_type": "code",
   "execution_count": null,
   "metadata": {},
   "outputs": [],
   "source": [
    "# Calculate the gross purchase amount for each customer\n",
    "customer_total_purchase = df.groupby('CustomerId')['Gross'].sum()\n",
    "\n",
    "# Sort the customers based on the gross purchase amount in descending order\n",
    "most_valuable_customers = customer_total_purchase.sort_values(ascending=False)\n",
    "\n",
    "# Convert the Series to a DataFrame\n",
    "most_valuable_customers_df = pd.DataFrame(most_valuable_customers, columns=['Gross']).reset_index()\n",
    "\n",
    "# Count the total number of customers in 'df'\n",
    "total_customers = df['CustomerId'].nunique()\n",
    "\n",
    "# Print the gross number of customers and the top 10 customers\n",
    "print('\\033[1m' + f\"Among {total_customers} customers, the top 10 customers are:\" +'\\033[0m', list(most_valuable_customers_df['CustomerId'][:10]))"
   ]
  },
  {
   "cell_type": "code",
   "execution_count": null,
   "metadata": {},
   "outputs": [],
   "source": [
    "# Find most valuable items in the list\n",
    "items_total_sell = df.groupby('ProductTitle')['Gross'].sum()\n",
    "\n",
    "# Sort the items based on the total sells in descending order\n",
    "most_valuable_items = items_total_sell.sort_values(ascending=False)\n",
    "\n",
    "# Convert the Series to a DataFrame\n",
    "most_valuable_items_df = pd.DataFrame(most_valuable_items, columns=['Gross']).reset_index()\n",
    "\n",
    "# Count the total number of items in 'df'\n",
    "total_items = df['ProductTitle'].nunique()\n",
    "\n",
    "# Print the total number of items and the top 10 items\n",
    "print('\\033[1m' + f\"Among {total_items} items, the 10 most valuable items are:\" +'\\033[0m', list(most_valuable_items_df['ProductTitle'][:10]))"
   ]
  },
  {
   "cell_type": "code",
   "execution_count": null,
   "metadata": {},
   "outputs": [],
   "source": [
    "# Find the country with the most sales in the list\n",
    "statewise_sell = df.groupby('BillingRegion')['Gross'].sum()\n",
    "\n",
    "# Sort countries based on the total sales in descending order\n",
    "top_selling_state = statewise_sell.sort_values(ascending=False)\n",
    "\n",
    "# Convert the Series to a DataFrame\n",
    "top_selling_state_df = pd.DataFrame(top_selling_state, columns=['Gross']).reset_index()\n",
    "\n",
    "# Count the total number of unique countries in 'df'\n",
    "total_states = df['BillingRegion'].nunique()\n",
    "\n",
    "# Print the total number of countries and the top 10 selling countries\n",
    "print('\\033[1m' + f\"Among {total_states} states, the top 10 selling states are:\" +'\\033[0m', list(top_selling_state_df['BillingRegion'][:10]))"
   ]
  },
  {
   "cell_type": "code",
   "execution_count": null,
   "metadata": {},
   "outputs": [],
   "source": [
    "import seaborn as sns\n",
    "import matplotlib.pyplot as plt\n",
    "\n",
    "# Create a figure and set its size\n",
    "plt.figure(figsize=(8, 6))\n",
    "\n",
    "# Create a box plot for the 'Gross' column\n",
    "sns.boxplot(data=df, y='Gross', color='lightblue', showfliers=False)  # showfliers=False to remove outliers\n",
    "\n",
    "# Add a title and labels\n",
    "plt.title('Distribution of Gross Amount', fontsize=16)\n",
    "plt.xlabel('Gross', fontsize=12)\n",
    "\n",
    "# Show the plot\n",
    "plt.show()"
   ]
  },
  {
   "cell_type": "code",
   "execution_count": null,
   "metadata": {},
   "outputs": [],
   "source": [
    "from scipy import stats\n",
    "\n",
    "# Calculate the Z-Score for the 'Quantity' column\n",
    "z_scores = stats.zscore(df['Gross'])\n",
    "\n",
    "# Create a boolean mask to identify outliers (both positive and negative Z-scores)\n",
    "threshold = 3\n",
    "outlier_mask = abs(z_scores) > threshold\n",
    "\n",
    "# Extract outliers from the DataFrame\n",
    "outliers = df[outlier_mask]\n",
    "\n",
    "outliers.shape"
   ]
  },
  {
   "cell_type": "code",
   "execution_count": null,
   "metadata": {},
   "outputs": [],
   "source": [
    "# Remove outliers from the main dataset\n",
    "without_outliers_online_retail = df[~outlier_mask]\n",
    "\n",
    "# Statistical Summary of data without outliers\n",
    "summary_without_outliers = without_outliers_online_retail.describe()\n",
    "summary_without_outliers"
   ]
  },
  {
   "cell_type": "code",
   "execution_count": null,
   "metadata": {},
   "outputs": [],
   "source": [
    "df.describe() # Statistical Summary of data with outliers"
   ]
  },
  {
   "cell_type": "code",
   "execution_count": null,
   "metadata": {},
   "outputs": [],
   "source": [
    "import seaborn as sns\n",
    "import matplotlib.pyplot as plt\n",
    "\n",
    "# Create a figure and set its size\n",
    "plt.figure(figsize=(8, 6))\n",
    "\n",
    "# Customize the color palette\n",
    "# colors = sns.color_palette(\"Paired\")  # You can choose a different palette\n",
    "\n",
    "# Create a box plot for the 'Gross' column without outliers\n",
    "sns.boxplot(data=without_outliers_online_retail, y='Gross', width=0.5, linewidth=2)\n",
    "\n",
    "# Add a title and labels\n",
    "plt.title('Distribution of Gross Amount (Without Outliers)', fontsize=16)\n",
    "plt.xlabel('Gross', fontsize=12)\n",
    "plt.ylabel('Gross Amount', fontsize=12)\n",
    "\n",
    "# Add a grid to the plot\n",
    "plt.grid(axis='y', linestyle='--', alpha=0.7)\n",
    "\n",
    "# Show the plot\n",
    "plt.show()"
   ]
  },
  {
   "cell_type": "code",
   "execution_count": null,
   "metadata": {},
   "outputs": [],
   "source": []
  }
 ],
 "metadata": {
  "kernelspec": {
   "display_name": "Python 3 (ipykernel)",
   "language": "python",
   "name": "python3"
  },
  "language_info": {
   "codemirror_mode": {
    "name": "ipython",
    "version": 3
   },
   "file_extension": ".py",
   "mimetype": "text/x-python",
   "name": "python",
   "nbconvert_exporter": "python",
   "pygments_lexer": "ipython3",
   "version": "3.11.12"
  }
 },
 "nbformat": 4,
 "nbformat_minor": 4
}
